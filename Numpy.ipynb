{
 "cells": [
  {
   "cell_type": "markdown",
   "id": "f7a52e55-4fb7-493b-92dc-7ba6da1dd92e",
   "metadata": {},
   "source": [
    "# Numpy\n",
    "\n",
    "NumPy is a fundamental package for numerical computing in Python. It provides support for multidimensional arrays and matrices, along with a collection of mathematical functions to operate on these arrays efficiently. Key features of NumPy include:\n",
    "* N-dimensional Arrays: NumPy's main object is the homogeneous multidimensional array called ndarray. These arrays can have any number of dimensions and contain elements of the same data type.\n",
    "* Efficient Operations: NumPy provides a wide range of mathematical functions that operate element-wise on arrays, enabling efficient numerical computations.\n",
    "* Broadcasting: NumPy's broadcasting capability allows operations between arrays of different shapes and sizes without explicitly iterating over them, which can greatly simplify code and improve performance.\n",
    "* Indexing and Slicing: NumPy offers powerful indexing and slicing capabilities for accessing and modifying elements within arrays, including advanced techniques like boolean indexing and fancy indexing.\n",
    "* Integration with Other Libraries: NumPy is the foundation for many other scientific computing libraries in Python, such as SciPy, Matplotlib, and scikit-learn. It seamlessly integrates with these libraries, providing a cohesive ecosystem for scientific computing.\n",
    "\n",
    "\n",
    "# Importing Numpy"
   ]
  },
  {
   "cell_type": "code",
   "execution_count": 2,
   "id": "79583fd8-9341-4056-a6f3-3fe4ace2cae0",
   "metadata": {},
   "outputs": [],
   "source": [
    "import numpy as np"
   ]
  },
  {
   "cell_type": "markdown",
   "id": "074dc78e-08ae-4884-8639-52d3b860a40d",
   "metadata": {},
   "source": [
    "# Numpy vs python\n",
    "NumPy arrays and Python lists are both used to store collections of data, but they have some fundamental differences in terms of functionality, performance, and memory usage. Here's a comparison between NumPy arrays and Python lists:\n",
    "\n",
    "1. Functionality:\n",
    "   * NumPy arrays: NumPy arrays are homogeneous, meaning all elements in the array are of the same data type. They support a wide range of mathematical operations and functions, such as element-wise operations, linear algebra, Fourier transforms, random number generation, and more. NumPy also provides advanced indexing and slicing capabilities.\n",
    "   * Python lists: Python lists can contain elements of different data types, making them heterogeneous. They offer basic functionality for iterating over elements, appending, inserting, and removing elements, but they lack specialized mathematical operations.\n",
    "2. Performance:\n",
    "   * NumPy arrays: NumPy arrays are highly optimized for numerical operations and are implemented in C, which makes them significantly faster than Python lists for numerical computations, especially when working with large datasets.\n",
    "   * Python lists: Python lists are implemented in Python itself, which can lead to slower performance compared to NumPy arrays, particularly for numerical computations involving large datasets.\n",
    "3. Memory Usage:\n",
    "    * NumPy arrays: NumPy arrays typically use less memory compared to Python lists, especially for large datasets, because they store data in a contiguous block of memory and can take advantage of data type optimizations.\n",
    "    * Python lists: Python lists can potentially use more memory compared to NumPy arrays due to the overhead of storing additional information about each element (e.g., type information, reference count).\n",
    "4. Ease of Use:\n",
    "   * NumPy arrays: NumPy arrays offer a wide range of functions and methods specifically designed for numerical computing tasks, making them convenient to use for scientific and mathematical applications.\n",
    "   * Python lists: Python lists are more general-purpose and flexible, making them easier to work with for tasks that do not involve numerical computations or require heterogeneous data types.\n"
   ]
  },
  {
   "cell_type": "code",
   "execution_count": 4,
   "id": "cdfb44ee-b817-49ed-8373-6961961a1c49",
   "metadata": {},
   "outputs": [
    {
     "name": "stdout",
     "output_type": "stream",
     "text": [
      "Size of list: 8000056 bytes\n",
      "Size of array: 8000000 bytes\n",
      "Time to sum list: 19.09 milliseconds\n",
      "Time to sum array: 0.00 milliseconds\n"
     ]
    }
   ],
   "source": [
    "import sys\n",
    "\n",
    "# Create a list of 1000000 integers\n",
    "list_1000000 = list(range(1000000))\n",
    "\n",
    "# Create a NumPy array of 1000000 integers\n",
    "array_1000000 = np.arange(1000000)\n",
    "\n",
    "# Print the size of the list and the array in bytes\n",
    "print(f\"Size of list: {sys.getsizeof(list_1000000)} bytes\")\n",
    "print(f\"Size of array: {array_1000000.nbytes} bytes\")\n",
    "\n",
    "# Time how long it takes to sum the list and the array\n",
    "import time\n",
    "\n",
    "# Sum the list\n",
    "start_time = time.time()\n",
    "sum_list = sum(list_1000000)\n",
    "end_time = time.time()\n",
    "list_sum_time = (end_time - start_time) * 1000\n",
    "\n",
    "# Sum the array\n",
    "start_time = time.time()\n",
    "sum_array = np.sum(array_1000000)\n",
    "end_time = time.time()\n",
    "array_sum_time = (end_time - start_time) * 1000\n",
    "\n",
    "# Print the time it took to sum the list and the array\n",
    "print(f\"Time to sum list: {list_sum_time:.2f} milliseconds\")\n",
    "print(f\"Time to sum array: {array_sum_time:.2f} milliseconds\")\n"
   ]
  },
  {
   "cell_type": "markdown",
   "id": "25a10057-8e6b-4142-b120-636c2613c994",
   "metadata": {},
   "source": [
    "# NumPy Arrays\n"
   ]
  },
  {
   "cell_type": "markdown",
   "id": "ce090ba3-39ac-46c5-8db5-c78dc8ecb3d8",
   "metadata": {},
   "source": [
    "**np.arange():**\n",
    "\n",
    "np.arange() is a function in NumPy used to create an array with regularly spaced values within a specified range. Its syntax is:"
   ]
  },
  {
   "cell_type": "code",
   "execution_count": 7,
   "id": "10e5e622-64a9-4427-a8f1-ebf449831146",
   "metadata": {},
   "outputs": [],
   "source": [
    " # numpy.arange([start, ]stop, [step, ]dtype=None)"
   ]
  },
  {
   "cell_type": "markdown",
   "id": "d69d1117-2344-4c1c-964f-fb1b63f50be4",
   "metadata": {},
   "source": [
    "- `start`: Optional. The start of the interval (inclusive). Default is 0.\n",
    "- `stop`: The end of the interval (exclusive).\n",
    "- `step`: Optional. The step size between values. Default is 1.\n",
    "- `dtype`: Optional. The data type of the array. If not specified, the data type is inferred from the other input arguments."
   ]
  },
  {
   "cell_type": "code",
   "execution_count": 9,
   "id": "d77e8497-59d1-4fe7-bdf3-6c3bedf9173f",
   "metadata": {},
   "outputs": [
    {
     "name": "stdout",
     "output_type": "stream",
     "text": [
      "[0 1 2 3 4 5 6 7 8 9]\n"
     ]
    }
   ],
   "source": [
    "# Create an array from 0 to 9\n",
    "arr = np.arange(10)\n",
    "print(arr)  # Output: [0 1 2 3 4 5 6 7 8 9]"
   ]
  },
  {
   "cell_type": "markdown",
   "id": "b169de2c-5e7d-4566-a891-4d4dee73b925",
   "metadata": {},
   "source": [
    "**NumPy Arrays (ndarrays):**\n",
    "\n",
    "NumPy arrays, or ndarrays, are the primary data structure used in NumPy. They are homogeneous collections of elements with fixed dimensions and have many similarities to Python lists but with additional functionality optimized for numerical computing.\n",
    "\n",
    "**1D Arrays:**\n",
    "\n",
    "1D arrays are like traditional arrays or lists. They have a single row and can be indexed using a single index."
   ]
  },
  {
   "cell_type": "code",
   "execution_count": 11,
   "id": "750e1cb1-8312-47d6-8a1e-d585954fa954",
   "metadata": {},
   "outputs": [
    {
     "name": "stdout",
     "output_type": "stream",
     "text": [
      "[1 2 3 4 5]\n",
      "1\n"
     ]
    }
   ],
   "source": [
    "# Create a 1D array\n",
    "arr_1d = np.array([1, 2, 3, 4, 5])\n",
    "print(arr_1d)       # Output: [1 2 3 4 5]\n",
    "print(arr_1d[0])    # Output: 1"
   ]
  },
  {
   "cell_type": "markdown",
   "id": "4cc9540b-4f59-429e-b86b-406e84363d67",
   "metadata": {},
   "source": [
    "**2D Arrays:**\n",
    "\n",
    "2D arrays, also known as matrices, have rows and columns. They are indexed using two indices, one for the row and one for the column."
   ]
  },
  {
   "cell_type": "code",
   "execution_count": 13,
   "id": "2e454275-29bd-464f-b767-b2c7aab277a1",
   "metadata": {},
   "outputs": [
    {
     "name": "stdout",
     "output_type": "stream",
     "text": [
      "[[1 2 3]\n",
      " [4 5 6]\n",
      " [7 8 9]]\n"
     ]
    }
   ],
   "source": [
    "# Create a 2D array\n",
    "arr_2d = np.array([[1, 2, 3],\n",
    "                   [4, 5, 6],\n",
    "                   [7, 8, 9]])\n",
    "print(arr_2d)"
   ]
  },
  {
   "cell_type": "markdown",
   "id": "8e4b6990-6ca6-4cee-a979-2b7a2ea09509",
   "metadata": {},
   "source": [
    "# Properties of nd Arrays"
   ]
  },
  {
   "cell_type": "markdown",
   "id": "8a65f9a3-b4bf-468b-9423-3a62f3a340da",
   "metadata": {},
   "source": [
    "**1. Shape:**\n",
    "\n",
    "The shape of an ndarray describes the size of each dimension of the array. It is represented as a tuple of integers indicating the number of elements along each dimension."
   ]
  },
  {
   "cell_type": "code",
   "execution_count": 16,
   "id": "1268fbc5-460e-4a4c-ac7b-0678390fd856",
   "metadata": {},
   "outputs": [
    {
     "name": "stdout",
     "output_type": "stream",
     "text": [
      "Shape of the array: (2, 3)\n"
     ]
    }
   ],
   "source": [
    "# Create a 2D array\n",
    "arr_2d = np.array([[1, 2, 3], [4, 5, 6]])\n",
    "\n",
    "# Print the shape\n",
    "print(\"Shape of the array:\", arr_2d.shape)  # Output: (2, 3)"
   ]
  },
  {
   "cell_type": "markdown",
   "id": "801f2061-f573-4a3a-93de-70e369c80bc1",
   "metadata": {},
   "source": [
    "**2. Data Type (dtype):**\n",
    "\n",
    "The data type of an ndarray specifies the type of elements stored in the array. NumPy arrays can hold elements of different types such as integers, floats, booleans, etc."
   ]
  },
  {
   "cell_type": "code",
   "execution_count": 18,
   "id": "e989bd98-5a96-4570-a10f-527d77ec8f04",
   "metadata": {},
   "outputs": [
    {
     "name": "stdout",
     "output_type": "stream",
     "text": [
      "Data type of the array: float32\n"
     ]
    }
   ],
   "source": [
    "# Create an array with a specific data type\n",
    "arr_float = np.array([1.1, 2.2, 3.3], dtype=np.float32)\n",
    "# Print the data type\n",
    "print(\"Data type of the array:\", arr_float.dtype)  # Output: float32"
   ]
  },
  {
   "cell_type": "markdown",
   "id": "10e68681-feb6-45ae-9a7e-c37d9168b279",
   "metadata": {},
   "source": [
    "**3. Size:**\n",
    "\n",
    "The size of an ndarray is the total number of elements in the array. It is equal to the product of the dimensions of the array."
   ]
  },
  {
   "cell_type": "code",
   "execution_count": 20,
   "id": "0097515c-4357-49a9-8370-1979708a3ec1",
   "metadata": {},
   "outputs": [
    {
     "name": "stdout",
     "output_type": "stream",
     "text": [
      "[[[1. 1. 1. 1.]\n",
      "  [1. 1. 1. 1.]\n",
      "  [1. 1. 1. 1.]]\n",
      "\n",
      " [[1. 1. 1. 1.]\n",
      "  [1. 1. 1. 1.]\n",
      "  [1. 1. 1. 1.]]]\n",
      "Size of the array: 24\n"
     ]
    }
   ],
   "source": [
    "# Create a 3D array\n",
    "arr_3d = np.ones((2, 3, 4))\n",
    "print(arr_3d)\n",
    "\n",
    "# Print the size\n",
    "print(\"Size of the array:\", arr_3d.size)  # Output: 24 (2 * 3 * 4)"
   ]
  },
  {
   "cell_type": "markdown",
   "id": "53a7a6c9-704e-4dde-ab8d-84ec7e33967e",
   "metadata": {},
   "source": [
    "**4. Number of Dimensions (ndim):**\n",
    "\n",
    "The ndim attribute of an ndarray specifies the number of dimensions or axes of the array."
   ]
  },
  {
   "cell_type": "code",
   "execution_count": 22,
   "id": "895ee154-26af-4a7e-9953-95177c1036d8",
   "metadata": {},
   "outputs": [
    {
     "name": "stdout",
     "output_type": "stream",
     "text": [
      "Number of dimensions: 4\n"
     ]
    }
   ],
   "source": [
    "# Create a 4D array\n",
    "arr_4d = np.ones((2, 3, 4, 5))\n",
    "\n",
    "# Print the number of dimensions\n",
    "print(\"Number of dimensions:\", arr_4d.ndim)  # Output: 4"
   ]
  },
  {
   "cell_type": "markdown",
   "id": "cf8f7041-aab8-4970-861e-d28109710807",
   "metadata": {},
   "source": [
    "**5. Itemsize:**\n",
    "\n",
    "The itemsize attribute of an ndarray specifies the size of each element in bytes."
   ]
  },
  {
   "cell_type": "code",
   "execution_count": 24,
   "id": "64a94f89-aa7e-49e9-b2d0-a7cac2e30b2f",
   "metadata": {},
   "outputs": [
    {
     "name": "stdout",
     "output_type": "stream",
     "text": [
      "int64\n",
      "Size of each element (in bytes): 8\n"
     ]
    }
   ],
   "source": [
    "# Create an array of integers\n",
    "arr_int = np.array([1, 2, 3])\n",
    "print(arr_int.dtype)\n",
    "# Print the item size\n",
    "print(\"Size of each element (in bytes):\", arr_int.itemsize)  # Output: 8 (for 64-bit integer)"
   ]
  },
  {
   "cell_type": "markdown",
   "id": "0867a5cc-daf4-4fab-a781-93f1e2955be5",
   "metadata": {},
   "source": [
    "# NumPy Data Types and Precision"
   ]
  },
  {
   "cell_type": "markdown",
   "id": "69852eda-4d06-4fd7-9365-3d526269025d",
   "metadata": {},
   "source": [
    "**NumPy Data Types (dtypes):**\n",
    "\n",
    "NumPy provides a variety of data types to represent different kinds of numerical data. These data types are important for controlling memory usage and ensuring data integrity in numerical computations.\n",
    "\n",
    "**Common NumPy Data Types:**\n",
    "\n",
    "- **int**: Integer (default size depends on the platform).\n",
    "- **float**: Floating point number (default size depends on the platform).\n",
    "- **bool**: Boolean (True or False).\n",
    "- **complex**: Complex number with real and imaginary parts.\n",
    "- **uint**: Unsigned integer (no negative values).\n",
    "\n",
    "**Specifying Data Types:**\n",
    "\n",
    "You can specify the data type of an ndarray using the `dtype` parameter of NumPy functions or by providing the data type as an argument to the array creation functions."
   ]
  },
  {
   "cell_type": "code",
   "execution_count": 27,
   "id": "5867008b-8c40-48e8-9386-7a36f464e8a8",
   "metadata": {},
   "outputs": [
    {
     "name": "stdout",
     "output_type": "stream",
     "text": [
      "Data type of arr_int32: int32\n",
      "Data type of arr_float64: float64\n"
     ]
    }
   ],
   "source": [
    "# Create an array with a specific data type\n",
    "arr_int32 = np.array([1, 2, 3], dtype=np.int32)\n",
    "arr_float64 = np.array([1.1, 2.2, 3.3], dtype=np.float64)\n",
    "\n",
    "print(\"Data type of arr_int32:\", arr_int32.dtype)   # Output: int32\n",
    "print(\"Data type of arr_float64:\", arr_float64.dtype)   # Output: float64"
   ]
  },
  {
   "cell_type": "markdown",
   "id": "58e2d826-6b43-4fe0-9874-3432da384218",
   "metadata": {},
   "source": [
    "**Precision:**\n",
    "\n",
    "Precision refers to the level of detail and accuracy with which numerical values are represented. NumPy data types have different levels of precision, which determine the range of values they can represent and the amount of memory they occupy."
   ]
  },
  {
   "cell_type": "code",
   "execution_count": 29,
   "id": "ace3fa2c-cd06-417c-9254-29f64e5048ca",
   "metadata": {},
   "outputs": [
    {
     "name": "stdout",
     "output_type": "stream",
     "text": [
      "Data type of arr_int32: int32\n",
      "Data type of arr_int64: int64\n",
      "[1234567890 1234567890]\n"
     ]
    }
   ],
   "source": [
    "# Create an array with different data types\n",
    "arr_int32 = np.array([1234567890, 1234567890], dtype=np.int32)\n",
    "arr_int64 = np.array([1234567890, 1234567890], dtype=np.int64)\n",
    "\n",
    "print(\"Data type of arr_int32:\", arr_int32.dtype)   # Output: int32\n",
    "print(\"Data type of arr_int64:\", arr_int64.dtype)   # Output: int64\n",
    "\n",
    "print(arr_int32)\n",
    "\n",
    "# In this example, the `int32` data type has limited precision compared to `int64`, which can represent larger integers without loss of precision."
   ]
  },
  {
   "cell_type": "markdown",
   "id": "8c7ccc04-3e87-477d-b92f-4d401deb17a5",
   "metadata": {},
   "source": [
    "**Impact of Precision on Memory Usage:**"
   ]
  },
  {
   "cell_type": "code",
   "execution_count": 40,
   "id": "167ce06c-f162-4542-af65-2e1a46bbb1e1",
   "metadata": {},
   "outputs": [
    {
     "name": "stdout",
     "output_type": "stream",
     "text": [
      "Memory usage of arr_float32: 12 bytes\n",
      "Memory usage of arr_float64: 24 bytes\n"
     ]
    }
   ],
   "source": [
    "# Create arrays with different data types\n",
    "arr_float32 = np.array([1.1, 2.2, 3.3], dtype=np.float32)\n",
    "arr_float64 = np.array([1.1, 2.2, 3.3], dtype=np.float64)\n",
    "\n",
    "print(\"Memory usage of arr_float32:\", arr_float32.itemsize * arr_float32.size, \"bytes\")  # Output: 12 bytes (3 elements * 4 bytes/element)\n",
    "print(\"Memory usage of arr_float64:\", arr_float64.itemsize * arr_float64.size, \"bytes\")  # Output: 24 bytes (3 elements * 8 bytes/element)"
   ]
  },
  {
   "cell_type": "markdown",
   "id": "10b6cd26-5e07-4687-991a-320e4ed19c63",
   "metadata": {},
   "source": [
    "**Example differentiating float32 and float64:**"
   ]
  },
  {
   "cell_type": "code",
   "execution_count": 42,
   "id": "8223e9e7-6612-4575-a7f4-cacefb7eb6ec",
   "metadata": {},
   "outputs": [
    {
     "name": "stdout",
     "output_type": "stream",
     "text": [
      "Sum using float32: 499999800000.0\n",
      "Sum using float64: 499999500000.0\n"
     ]
    }
   ],
   "source": [
    "# Create a large array with float32 and float64 data types\n",
    "large_array_float32 = np.arange(1000000, dtype=np.float32)\n",
    "large_array_float64 = np.arange(1000000, dtype=np.float64)\n",
    "\n",
    "# Calculate the sum of elements\n",
    "sum_float32 = np.sum(large_array_float32)\n",
    "sum_float64 = np.sum(large_array_float64)\n",
    "\n",
    "print(\"Sum using float32:\", sum_float32)\n",
    "print(\"Sum using float64:\", sum_float64)"
   ]
  },
  {
   "cell_type": "markdown",
   "id": "c639a75e-9fcc-404b-9241-ef30a1a3ae14",
   "metadata": {},
   "source": [
    "# np.zeros, np.ones, np.full:"
   ]
  },
  {
   "cell_type": "markdown",
   "id": "f1b27885-85e8-4b32-a640-d4c8d7f6346e",
   "metadata": {},
   "source": [
    "**np.zeros:**\n",
    "\n",
    "`np.zeros` creates an array filled with zeros. It takes the shape of the desired array as input and returns an array of that shape filled with zeros.\n",
    "\n",
    "Syntax:\n",
    "```python\n",
    "numpy.zeros(shape, dtype=float)\n",
    "```\n",
    "\n",
    "- `shape`: The shape of the array (tuple of integers).\n",
    "- `dtype`: Optional. The data type of the array. Default is `float`."
   ]
  },
  {
   "cell_type": "code",
   "execution_count": 45,
   "id": "ff1cc205-8c13-4478-8eba-914cf3d798f5",
   "metadata": {},
   "outputs": [
    {
     "name": "stdout",
     "output_type": "stream",
     "text": [
      "[[0. 0. 0.]\n",
      " [0. 0. 0.]]\n"
     ]
    }
   ],
   "source": [
    "# Create a 2x3 array filled with zeros\n",
    "zeros_array = np.zeros((2, 3))\n",
    "print(zeros_array)"
   ]
  },
  {
   "cell_type": "markdown",
   "id": "18d5fa8e-ba15-4f22-932c-659c520ed37e",
   "metadata": {},
   "source": [
    "**np.ones:**\n",
    "\n",
    "`np.ones` creates an array filled with ones. Similar to `np.zeros`, it takes the shape of the desired array as input and returns an array of that shape filled with ones.\n",
    "\n",
    "Syntax:\n",
    "```python\n",
    "numpy.ones(shape, dtype=None)\n",
    "```\n",
    "\n",
    "- `shape`: The shape of the array (tuple of integers).\n",
    "- `dtype`: Optional. The data type of the array. If not specified, the default is determined by the data type of `1`."
   ]
  },
  {
   "cell_type": "code",
   "execution_count": 47,
   "id": "5247c91d-9ad1-41d4-a5bf-822886f56780",
   "metadata": {},
   "outputs": [
    {
     "name": "stdout",
     "output_type": "stream",
     "text": [
      "[[1. 1.]\n",
      " [1. 1.]\n",
      " [1. 1.]]\n"
     ]
    }
   ],
   "source": [
    "# Create a 3x2 array filled with ones\n",
    "ones_array = np.ones((3, 2))\n",
    "print(ones_array)"
   ]
  },
  {
   "cell_type": "markdown",
   "id": "de8d583b-c313-4089-93ab-9d7fb53269eb",
   "metadata": {},
   "source": [
    "**np.full:**\n",
    "\n",
    "`np.full` creates an array filled with a specified constant value. It takes the shape of the desired array and the constant value as input and returns an array of that shape filled with the specified value.\n",
    "\n",
    "Syntax:\n",
    "```python\n",
    "numpy.full(shape, fill_value, dtype=None)\n",
    "```\n",
    "\n",
    "- `shape`: The shape of the array (tuple of integers).\n",
    "- `fill_value`: The constant value to fill the array with.\n",
    "- `dtype`: Optional. The data type of the array. If not specified, the default is determined by the data type of `fill_value`.\n"
   ]
  },
  {
   "cell_type": "code",
   "execution_count": 49,
   "id": "d6a2d670-ddda-4c58-9d49-126f08673ac8",
   "metadata": {},
   "outputs": [
    {
     "name": "stdout",
     "output_type": "stream",
     "text": [
      "[[4.5 4.5]\n",
      " [4.5 4.5]]\n"
     ]
    }
   ],
   "source": [
    "# Create a 2x2 array filled with 5\n",
    "full_array = np.full((2, 2), 4.5)\n",
    "print(full_array)"
   ]
  },
  {
   "cell_type": "markdown",
   "id": "b874e4ed-f24a-4236-ab22-2a3e4f3238b2",
   "metadata": {},
   "source": [
    "# Array Operations - NumPy"
   ]
  },
  {
   "cell_type": "markdown",
   "id": "011163f0-aa62-441e-a053-60b11623a617",
   "metadata": {},
   "source": [
    "**1. Arithmetic Operations:**"
   ]
  },
  {
   "cell_type": "code",
   "execution_count": 56,
   "id": "81b7929c-c9d6-467a-8b9b-26557db01ecb",
   "metadata": {},
   "outputs": [
    {
     "name": "stdout",
     "output_type": "stream",
     "text": [
      "Addition: [5 7 9]\n",
      "Subtraction: [3 3 6]\n",
      "Multiplication: [ 6 12 20]\n",
      "Division: [5. 4. 7.]\n",
      "Modulus: [1 3 2]\n",
      "Exponentiation: [ 4 27 16]\n"
     ]
    }
   ],
   "source": [
    "# Addition\n",
    "arr_sum = np.add([1, 2, 3], [4, 5, 6])\n",
    "print(\"Addition:\", arr_sum)  # Output: [5 7 9]\n",
    "\n",
    "# Subtraction\n",
    "arr_diff = np.subtract([5, 6, 7], [2, 3, 1])\n",
    "print(\"Subtraction:\", arr_diff)  # Output: [3 3 6]\n",
    "\n",
    "# Multiplication\n",
    "arr_prod = np.multiply([2, 3, 4], [3, 4, 5])\n",
    "print(\"Multiplication:\", arr_prod)  # Output: [ 6 12 20]\n",
    "\n",
    "# Division\n",
    "arr_div = np.divide([10, 12, 14], [2, 3, 2])\n",
    "print(\"Division:\", arr_div)  # Output: [5. 4. 7.]\n",
    "\n",
    "# Modulus\n",
    "arr_mod = np.mod([10, 11, 12], [3, 4, 5])\n",
    "print(\"Modulus:\", arr_mod)  # Output: [1 3 2]\n",
    "\n",
    "# Exponentiation\n",
    "arr_pow = np.power([2, 3, 4], [2, 3, 2])\n",
    "print(\"Exponentiation:\", arr_pow)  # Output: [ 4 27 16]\n"
   ]
  },
  {
   "cell_type": "markdown",
   "id": "979080c6-d88d-4abb-a4ea-bd2fe41e500b",
   "metadata": {},
   "source": [
    "**2. Relational Operations:**"
   ]
  },
  {
   "cell_type": "code",
   "execution_count": 58,
   "id": "7babbfc9-e6ba-4ecd-82aa-574653468c98",
   "metadata": {},
   "outputs": [
    {
     "name": "stdout",
     "output_type": "stream",
     "text": [
      "Equal: [False  True False False]\n",
      "Not Equal: [ True False  True  True]\n",
      "Greater Than: [False False False  True]\n",
      "Greater Than or Equal To: [False  True False  True]\n",
      "Less Than: [ True False  True False]\n",
      "Less Than or Equal To: [ True  True  True False]\n"
     ]
    }
   ],
   "source": [
    "# Create sample arrays\n",
    "arr1 = np.array([1, 2, 3, 4])\n",
    "arr2 = np.array([2, 2, 4, 3])\n",
    "\n",
    "# Equal\n",
    "print(\"Equal:\", arr1 == arr2)  # Output: [False  True False False]\n",
    "\n",
    "# Not Equal\n",
    "print(\"Not Equal:\", arr1 != arr2)  # Output: [ True False  True  True]\n",
    "\n",
    "# Greater Than\n",
    "print(\"Greater Than:\", arr1 > arr2)  # Output: [False False False  True]\n",
    "\n",
    "# Greater Than or Equal To\n",
    "print(\"Greater Than or Equal To:\", arr1 >= arr2)  # Output: [False  True False  True]\n",
    "\n",
    "# Less Than\n",
    "print(\"Less Than:\", arr1 < arr2)  # Output: [ True False False False]\n",
    "\n",
    "# Less Than or Equal To\n",
    "print(\"Less Than or Equal To:\", arr1 <= arr2)  # Output: [ True  True  True False]\n"
   ]
  },
  {
   "cell_type": "markdown",
   "id": "b9fff791-36c7-4814-a824-c51952133061",
   "metadata": {},
   "source": [
    "# Indexing and Slicing for 1D Arrays"
   ]
  },
  {
   "cell_type": "markdown",
   "id": "01c6e293-84ec-4b8c-a96e-3b07383e4244",
   "metadata": {},
   "source": [
    "**1. Indexing:**\n",
    "\n",
    "Indexing refers to accessing individual elements of an array using their position (index) within the array. In NumPy, indexing starts from 0, so the first element has index 0, the second element has index 1, and so on."
   ]
  },
  {
   "cell_type": "code",
   "execution_count": 61,
   "id": "48d700b1-080c-4912-bbe0-7a0b3a299618",
   "metadata": {},
   "outputs": [
    {
     "name": "stdout",
     "output_type": "stream",
     "text": [
      "First element: 1\n",
      "Second element: 2\n",
      "Last element: 5\n"
     ]
    }
   ],
   "source": [
    "# Create a 1D array\n",
    "arr = np.array([1, 2, 3, 4, 5])\n",
    "\n",
    "# Access individual elements using indexing\n",
    "print(\"First element:\", arr[0])   # Output: 1\n",
    "print(\"Second element:\", arr[1])  # Output: 2\n",
    "print(\"Last element:\", arr[-1])   # Output: 5 (negative indexing)"
   ]
  },
  {
   "cell_type": "markdown",
   "id": "67216d82-bf0a-4000-84f7-5be10ed62aac",
   "metadata": {},
   "source": [
    "**2. Slicing:**\n",
    "\n",
    "Slicing allows you to extract a subset of elements from an array by specifying a range of indices. The basic syntax for slicing is `start:stop:step`, where `start` is the starting index (inclusive), `stop` is the ending index (exclusive), and `step` is the step size."
   ]
  },
  {
   "cell_type": "code",
   "execution_count": 63,
   "id": "5912125f-279e-4cf2-899b-39b498b0c104",
   "metadata": {},
   "outputs": [
    {
     "name": "stdout",
     "output_type": "stream",
     "text": [
      "Slice: [2 3]\n",
      "Slice with step: [1 3]\n"
     ]
    }
   ],
   "source": [
    "# Create a 1D array\n",
    "arr = np.array([1, 2, 3, 4, 5])\n",
    "\n",
    "# Slice elements from index 1 to index 3 (exclusive)\n",
    "print(\"Slice:\", arr[1:3])  # Output: [2 3]\n",
    "\n",
    "# Slice elements from index 0 to index 4 with step size 2\n",
    "print(\"Slice with step:\", arr[0:4:2])  # Output: [1 3]"
   ]
  },
  {
   "cell_type": "markdown",
   "id": "4ccb5e37-78b4-4b93-986f-d497983b58df",
   "metadata": {},
   "source": [
    "**3. Negative Indexing:**\n",
    "\n",
    "Negative indexing allows you to access elements from the end of the array by specifying negative indices. `-1` refers to the last element, `-2` refers to the second last element, and so on."
   ]
  },
  {
   "cell_type": "code",
   "execution_count": 65,
   "id": "d20f4e11-e16c-44c1-b12b-f8151f3a8d65",
   "metadata": {},
   "outputs": [
    {
     "name": "stdout",
     "output_type": "stream",
     "text": [
      "Last element: 5\n"
     ]
    }
   ],
   "source": [
    "# Create a 1D array\n",
    "arr = np.array([1, 2, 3, 4, 5])\n",
    "\n",
    "# Access the last element using negative indexing\n",
    "print(\"Last element:\", arr[-1])  # Output: 5"
   ]
  },
  {
   "cell_type": "markdown",
   "id": "cad3a245-3e9c-4efb-a675-5545807a30c6",
   "metadata": {},
   "source": [
    "**4. Slicing with Omitted Indices:**\n",
    "\n",
    "You can omit any of the slicing parameters to use default values. Omitting `start` defaults to 0, omitting `stop` defaults to the end of the array, and omitting `step` defaults to 1.\n"
   ]
  },
  {
   "cell_type": "code",
   "execution_count": 67,
   "id": "74ada5c7-7ee5-4be8-b96e-b046a96b3684",
   "metadata": {},
   "outputs": [
    {
     "name": "stdout",
     "output_type": "stream",
     "text": [
      "Slice with omitted start: [1 2 3]\n",
      "Slice with omitted stop: [3 4 5]\n",
      "Slice with omitted step: [1 3 5]\n"
     ]
    }
   ],
   "source": [
    "# Create a 1D array\n",
    "arr = np.array([1, 2, 3, 4, 5])\n",
    "\n",
    "# Slice elements from the beginning to index 3 (exclusive)\n",
    "print(\"Slice with omitted start:\", arr[:3])  # Output: [1 2 3]\n",
    "\n",
    "# Slice elements from index 2 to the end\n",
    "print(\"Slice with omitted stop:\", arr[2:])  # Output: [3 4 5]\n",
    "\n",
    "# Slice elements with step size 2\n",
    "print(\"Slice with omitted step:\", arr[::2])  # Output: [1 3 5]"
   ]
  },
  {
   "cell_type": "markdown",
   "id": "dc065b61-9806-48c3-8968-941bbbe0480d",
   "metadata": {},
   "source": [
    "\n",
    "# Indexing and Slicing for 2D Arrays"
   ]
  },
  {
   "cell_type": "markdown",
   "id": "7655c998-ac42-408a-a7ee-e2ebbf295f3f",
   "metadata": {},
   "source": [
    "**1. Indexing:**\n",
    "\n",
    "Indexing refers to accessing individual elements of an array using their position (index) within the array. In a 2D array, indexing is done using row and column indices."
   ]
  },
  {
   "cell_type": "code",
   "execution_count": 70,
   "id": "40540f57-37c9-4987-b2ee-94639131f396",
   "metadata": {},
   "outputs": [
    {
     "name": "stdout",
     "output_type": "stream",
     "text": [
      "Element at (0, 0): 1\n",
      "Element at (1, 2): 6\n"
     ]
    }
   ],
   "source": [
    "# Create a 2D array\n",
    "arr = np.array([[1, 2, 3],\n",
    "                [4, 5, 6],\n",
    "                [7, 8, 9]])\n",
    "\n",
    "# Access individual elements using indexing\n",
    "print(\"Element at (0, 0):\", arr[0, 0])  # Output: 1\n",
    "print(\"Element at (1, 2):\", arr[1, 2])  # Output: 6"
   ]
  },
  {
   "cell_type": "markdown",
   "id": "6d2d0c63-8748-45b4-88bb-a2a131f1ace1",
   "metadata": {},
   "source": [
    "**2. Slicing:**\n",
    "\n",
    "Slicing allows you to extract a subset of elements from an array by specifying ranges of row and column indices. The basic syntax for slicing is `start:stop:step`, where `start` is the starting index (inclusive), `stop` is the ending index (exclusive), and `step` is the step size."
   ]
  },
  {
   "cell_type": "code",
   "execution_count": 72,
   "id": "9cfd9d70-a0f0-43f0-b54e-c61a91c77683",
   "metadata": {},
   "outputs": [
    {
     "name": "stdout",
     "output_type": "stream",
     "text": [
      "Slice: [[2 3]\n",
      " [5 6]]\n",
      "Modified array after slicing: [[ 1 10 20]\n",
      " [ 4 30 40]\n",
      " [ 7  8  9]]\n"
     ]
    }
   ],
   "source": [
    "\n",
    "# Create a 2D array\n",
    "arr = np.array([[1, 2, 3],\n",
    "                [4, 5, 6],\n",
    "                [7, 8, 9]])\n",
    "\n",
    "# Slice elements from rows 0 to 1 (exclusive) and columns 1 to 2 (exclusive)\n",
    "print(\"Slice:\", arr[0:2, 1:3])\n",
    "\n",
    "\n",
    "# Modify slice\n",
    "arr[0:2, 1:3] = [[10, 20], [30, 40]]\n",
    "print(\"Modified array after slicing:\", arr)\n"
   ]
  },
  {
   "cell_type": "markdown",
   "id": "99ceb234-d91a-46e6-ab9d-d41a31e4bc20",
   "metadata": {},
   "source": [
    "**3. Negative Indexing:**\n",
    "\n",
    "Negative indexing can also be used in 2D arrays to access elements from the end of the array."
   ]
  },
  {
   "cell_type": "code",
   "execution_count": 74,
   "id": "b14b596f-7e9b-4ef8-b263-47fb154848cb",
   "metadata": {},
   "outputs": [
    {
     "name": "stdout",
     "output_type": "stream",
     "text": [
      "Last element: 9\n"
     ]
    }
   ],
   "source": [
    "# Create a 2D array\n",
    "arr = np.array([[1, 2, 3],\n",
    "                [4, 5, 6],\n",
    "                [7, 8, 9]])\n",
    "\n",
    "# Access the last element using negative indexing\n",
    "print(\"Last element:\", arr[-1, -1])  # Output: 9"
   ]
  },
  {
   "cell_type": "markdown",
   "id": "3156b33a-ba7e-41b6-a5fb-2b606ba349cf",
   "metadata": {},
   "source": [
    "**4. Slicing with Omitted Indices:**\n",
    "\n",
    "You can omit any of the slicing parameters to use default values. Omitting `start` defaults to 0, omitting `stop` defaults to the end of the array, and omitting `step` defaults to 1."
   ]
  },
  {
   "cell_type": "code",
   "execution_count": 76,
   "id": "245621ec-6637-4c4a-846b-06357fb2bb88",
   "metadata": {},
   "outputs": [
    {
     "name": "stdout",
     "output_type": "stream",
     "text": [
      "Slice with omitted start and stop: [[4 5 6]\n",
      " [7 8 9]]\n",
      "Slice with omitted step: [[1]\n",
      " [4]\n",
      " [7]]\n"
     ]
    }
   ],
   "source": [
    "# Create a 2D array\n",
    "arr = np.array([[1, 2, 3],\n",
    "                [4, 5, 6],\n",
    "                [7, 8, 9]])\n",
    "\n",
    "# Slice elements from rows 1 to the end and all columns\n",
    "print(\"Slice with omitted start and stop:\", arr[1:])\n",
    "\n",
    "# Slice elements from all rows and columns 0 to 1 (exclusive) with step size 2\n",
    "print(\"Slice with omitted step:\", arr[:, 0:2:2])"
   ]
  },
  {
   "cell_type": "markdown",
   "id": "c598be27-05d8-49c7-8860-ed06cb23e339",
   "metadata": {},
   "source": [
    "# Mass Level Indexing and Slicing"
   ]
  },
  {
   "cell_type": "markdown",
   "id": "7c5d9801-b952-4824-a263-c7ce4710d3b6",
   "metadata": {},
   "source": [
    "**1. Boolean Indexing:**\n",
    "\n",
    "Boolean indexing allows you to select elements from an array based on a condition. You create a boolean mask indicating which elements satisfy the condition, and then use this mask to extract the desired elements."
   ]
  },
  {
   "cell_type": "code",
   "execution_count": 79,
   "id": "c99ec744-b90e-4c29-a48d-ca1e58efc88d",
   "metadata": {},
   "outputs": [
    {
     "name": "stdout",
     "output_type": "stream",
     "text": [
      "Selected elements: [4 5]\n"
     ]
    }
   ],
   "source": [
    "# Create a 1D array\n",
    "arr_1d = np.array([1, 2, 3, 4, 5])\n",
    "\n",
    "# Boolean mask for elements greater than 3\n",
    "mask = arr_1d > 3\n",
    "\n",
    "# Use boolean mask to select elements\n",
    "selected_elements = arr_1d[mask]\n",
    "print(\"Selected elements:\", selected_elements)"
   ]
  },
  {
   "cell_type": "markdown",
   "id": "e6506059-a1c4-4fdb-99e6-9fb59cbdfb4a",
   "metadata": {},
   "source": [
    "# Create a 2D array\n",
    "arr_2d = np.array([[1, 2, 3], # False, False, True\n",
    "                    [4, 5, 6],\n",
    "                    [7, 8, 9]])\n",
    "\n",
    "# Boolean indexing to select elements greater than 2\n",
    "result_2d = arr_2d[arr_2d > 2]\n",
    "print(\"Elements greater than 2 in 2D array:\", result_2d)\n"
   ]
  },
  {
   "cell_type": "markdown",
   "id": "ed930cc3-635c-44e9-afdc-525cc4cd67c8",
   "metadata": {},
   "source": [
    "**2. Fancy Indexing:**\n",
    "\n",
    "Fancy indexing allows you to select elements from an array using arrays of indices. You provide arrays of indices along each axis, and the elements at those indices are returned as a new array."
   ]
  },
  {
   "cell_type": "code",
   "execution_count": 98,
   "id": "5dab1d8f-3dc2-4c84-9c00-b2253bcb9241",
   "metadata": {},
   "outputs": [
    {
     "name": "stdout",
     "output_type": "stream",
     "text": [
      "Selected elements: [1 3 5]\n"
     ]
    }
   ],
   "source": [
    "# Create a 1D array\n",
    "arr_1d = np.array([1, 2, 3, 4, 5])\n",
    "\n",
    "# Fancy indexing\n",
    "indices = [0, 2, 4]\n",
    "selected_elements = arr_1d[indices]\n",
    "print(\"Selected elements:\", selected_elements)"
   ]
  },
  {
   "cell_type": "markdown",
   "id": "5148f28f-c616-4ce8-a061-933a1494f9ce",
   "metadata": {},
   "source": [
    "# Playing with Arrays\n"
   ]
  },
  {
   "cell_type": "markdown",
   "id": "053b5408-e926-4fe3-ad06-6cc8efdbe9dc",
   "metadata": {},
   "source": [
    "**1. Transposing Arrays:**\n",
    "\n",
    "Transposing an array means exchanging its rows and columns. In NumPy, you can transpose an array using the `T` attribute or the `transpose()` function."
   ]
  },
  {
   "cell_type": "code",
   "execution_count": 18,
   "id": "dfa24009-f4fa-4b84-922a-39bf90485425",
   "metadata": {},
   "outputs": [
    {
     "name": "stdout",
     "output_type": "stream",
     "text": [
      "Transposed array:\n",
      "[[1 4]\n",
      " [2 5]\n",
      " [3 6]]\n"
     ]
    }
   ],
   "source": [
    "import numpy as np\n",
    "\n",
    "# Create a 2D array\n",
    "arr_2d = np.array([[1, 2, 3],\n",
    "                   [4, 5, 6]])\n",
    "\n",
    "# Transpose the array\n",
    "transposed_arr = arr_2d.T\n",
    "print(\"Transposed array:\")\n",
    "print(transposed_arr)\n"
   ]
  },
  {
   "cell_type": "markdown",
   "id": "02493075-9ab3-4d93-b578-e73f121e0253",
   "metadata": {},
   "source": [
    "**2. Swapping Axes:**\n",
    "\n",
    "Swapping axes means rearranging the dimensions of an array. You can swap axes using the `swapaxes()` function."
   ]
  },
  {
   "cell_type": "code",
   "execution_count": 16,
   "id": "ddcccdf6-5855-4291-9804-010de71d5f8f",
   "metadata": {},
   "outputs": [
    {
     "name": "stdout",
     "output_type": "stream",
     "text": [
      "Swapped array:\n",
      "[[1 4]\n",
      " [2 5]\n",
      " [3 6]]\n"
     ]
    }
   ],
   "source": [
    "import numpy as np\n",
    "\n",
    "# Create a 2D array\n",
    "arr_2d = np.array([[1, 2, 3], [4, 5, 6]])\n",
    "\n",
    "# Swap axes\n",
    "swapped_arr = arr_2d.swapaxes(0, 1)\n",
    "\n",
    "print(\"Swapped array:\")\n",
    "print(swapped_arr)\n"
   ]
  },
  {
   "cell_type": "code",
   "execution_count": 20,
   "id": "b0346f71-6791-49fc-acc6-02f6984a38a2",
   "metadata": {},
   "outputs": [
    {
     "name": "stdout",
     "output_type": "stream",
     "text": [
      "Original array shape: (2, 3, 4)\n",
      "Swapped array shape: (4, 3, 2)\n",
      "Swapped array data:\n",
      " [[[ 1 13]\n",
      "  [ 5 17]\n",
      "  [ 9 21]]\n",
      "\n",
      " [[ 2 14]\n",
      "  [ 6 18]\n",
      "  [10 22]]\n",
      "\n",
      " [[ 3 15]\n",
      "  [ 7 19]\n",
      "  [11 23]]\n",
      "\n",
      " [[ 4 16]\n",
      "  [ 8 20]\n",
      "  [12 24]]]\n"
     ]
    }
   ],
   "source": [
    "# Create a 3D array of shape (2, 3, 4)\n",
    "# Think of it as 2 layers of 3x4 matrices\n",
    "array_3d = np.array([[[ 1,  2,  3,  4],\n",
    "                      [ 5,  6,  7,  8],\n",
    "                      [ 9, 10, 11, 12]],\n",
    "\n",
    "                     [[13, 14, 15, 16],\n",
    "                      [17, 18, 19, 20],\n",
    "                      [21, 22, 23, 24]]])\n",
    "\n",
    "print(\"Original array shape:\", array_3d.shape)\n",
    "\n",
    "# Swap the first and last axes (depth with columns)\n",
    "swapped_array = np.swapaxes(array_3d, 0, 2)\n",
    "\n",
    "print(\"Swapped array shape:\", swapped_array.shape)\n",
    "print(\"Swapped array data:\\n\", swapped_array)\n"
   ]
  },
  {
   "cell_type": "markdown",
   "id": "de69a95a-cd85-44e5-80a1-3ec41bfc094c",
   "metadata": {},
   "source": [
    "**3. Pseudo-random Number Generation:**\n",
    "\n",
    "NumPy provides various functions for generating pseudo-random numbers. These functions are located in the `numpy.random` module. You can generate random numbers from different distributions, such as uniform, normal, binomial, etc."
   ]
  },
  {
   "cell_type": "code",
   "execution_count": 23,
   "id": "220dc0a4-9d59-490a-b45c-e49eb2629c8e",
   "metadata": {},
   "outputs": [
    {
     "name": "stdout",
     "output_type": "stream",
     "text": [
      "Random integers (1D): [9 7 6 8 5]\n",
      "Random numbers from normal distribution (1D): [-1.33651958  0.52295751 -1.05310729 -0.57285019  0.46190858]\n"
     ]
    }
   ],
   "source": [
    "# Pseudo-random Number Generation in 1D Array:\n",
    "\n",
    "# Generate 5 random integers between 1 and 10\n",
    "random_integers = np.random.randint(1, 10, size=5)\n",
    "print(\"Random integers (1D):\", random_integers)\n",
    "\n",
    "# Generate 5 random numbers from a normal distribution\n",
    "random_normal = np.random.normal(size=5)\n",
    "print(\"Random numbers from normal distribution (1D):\", random_normal)"
   ]
  },
  {
   "cell_type": "code",
   "execution_count": 25,
   "id": "f658030e-ead4-4a55-b2c1-8ceef792a749",
   "metadata": {},
   "outputs": [
    {
     "name": "stdout",
     "output_type": "stream",
     "text": [
      "Random integers (2D):\n",
      "[[5 8 6]\n",
      " [1 5 4]\n",
      " [6 9 3]]\n",
      "Random numbers from normal distribution (2D):\n",
      "[[ 0.21098045 -0.74551911 -0.83763643]\n",
      " [ 0.98052521  0.08128605  0.29341737]\n",
      " [ 0.13069224 -0.19328981  0.12975243]]\n"
     ]
    }
   ],
   "source": [
    "# Pseudo-random Number Generation in 2D Array:\n",
    "\n",
    "# Generate a 2D array of shape (3, 3) with random integers between 1 and 10\n",
    "random_integers_2d = np.random.randint(1, 10, size=(3, 3))\n",
    "print(\"Random integers (2D):\")\n",
    "print(random_integers_2d)\n",
    "\n",
    "# Generate a 2D array of shape (3, 3) with random numbers from a normal distribution\n",
    "random_normal_2d = np.random.normal(size=(3, 3))\n",
    "print(\"Random numbers from normal distribution (2D):\")\n",
    "print(random_normal_2d)"
   ]
  },
  {
   "cell_type": "markdown",
   "id": "28d4024e-fd75-45e3-a8fd-4f33bc59bb1e",
   "metadata": {},
   "source": [
    "# Masking"
   ]
  },
  {
   "cell_type": "markdown",
   "id": "d073e921-3b87-4c44-82d8-8e8408312fde",
   "metadata": {},
   "source": [
    "Masking in NumPy involves using boolean arrays (masks) to filter or select elements from arrays based on certain conditions. This is particularly useful for selecting elements that satisfy specific criteria."
   ]
  },
  {
   "cell_type": "code",
   "execution_count": 31,
   "id": "d0ce475b-382f-4875-a677-6577d5c89820",
   "metadata": {},
   "outputs": [
    {
     "name": "stdout",
     "output_type": "stream",
     "text": [
      "Original 1D array: [1 2 3 4 5]\n",
      "Boolean mask: [False False  True  True  True]\n",
      "Selected elements using mask: [3 4 5]\n"
     ]
    }
   ],
   "source": [
    "# Create a 1D array\n",
    "arr_1d = np.array([1, 2, 3, 4, 5])\n",
    "\n",
    "# Create a boolean mask based on a condition (e.g., elements greater than 2)\n",
    "mask_1d = arr_1d > 2\n",
    "\n",
    "# Apply the mask to select elements from the array\n",
    "result_1d = arr_1d[mask_1d]\n",
    "\n",
    "print(\"Original 1D array:\", arr_1d)\n",
    "print(\"Boolean mask:\", mask_1d)\n",
    "print(\"Selected elements using mask:\", result_1d)"
   ]
  },
  {
   "cell_type": "markdown",
   "id": "0588abf7-7392-41c9-80ac-9ee818c9d040",
   "metadata": {},
   "source": [
    "**2. Masking in 2D Array:**"
   ]
  },
  {
   "cell_type": "code",
   "execution_count": 34,
   "id": "4ef0d623-db6a-4284-bafc-708194b2a87d",
   "metadata": {},
   "outputs": [
    {
     "name": "stdout",
     "output_type": "stream",
     "text": [
      "Original 2D array:\n",
      "[[1 2 3]\n",
      " [4 5 6]\n",
      " [7 8 9]]\n",
      "Boolean mask:\n",
      "[[False False False]\n",
      " [False False  True]\n",
      " [ True  True  True]]\n",
      "Selected elements using mask:\n",
      "[6 7 8 9]\n"
     ]
    }
   ],
   "source": [
    "# Create a 2D array\n",
    "arr_2d = np.array([[1, 2, 3],\n",
    "                   [4, 5, 6],\n",
    "                   [7, 8, 9]])\n",
    "\n",
    "# Create a boolean mask based on a condition (e.g., elements greater than 5)\n",
    "mask_2d = arr_2d > 5\n",
    "\n",
    "# Apply the mask to select elements from the array\n",
    "result_2d = arr_2d[mask_2d]\n",
    "\n",
    "print(\"Original 2D array:\")\n",
    "print(arr_2d)\n",
    "\n",
    "print(\"Boolean mask:\")\n",
    "print(mask_2d)\n",
    "\n",
    "print(\"Selected elements using mask:\")\n",
    "print(result_2d)"
   ]
  },
  {
   "cell_type": "markdown",
   "id": "2da705ec-bcfc-400d-9174-4e0efa0bddc1",
   "metadata": {},
   "source": [
    "# Operations on 2D Arrays"
   ]
  },
  {
   "cell_type": "markdown",
   "id": "29e600a5-9cdb-4317-b24b-8e0ace0626e3",
   "metadata": {},
   "source": [
    "**1. Matrix Multiplication (`np.matmul()`):**\n",
    "\n",
    "Matrix multiplication is a fundamental operation in linear algebra, where you multiply two matrices to obtain a new matrix. In NumPy, you can perform matrix multiplication using the `np.matmul()` function."
   ]
  },
  {
   "cell_type": "code",
   "execution_count": 43,
   "id": "8f361db6-1ebe-4d0d-9322-efc441283ee2",
   "metadata": {},
   "outputs": [
    {
     "name": "stdout",
     "output_type": "stream",
     "text": [
      "Matrix Multiplication:\n",
      "[[19 22]\n",
      " [43 50]]\n"
     ]
    }
   ],
   "source": [
    "# Define matrices\n",
    "matrix_a = np.array([[1, 2], [3, 4]])\n",
    "matrix_b = np.array([[5, 6], [7, 8]])\n",
    "\n",
    "# Matrix multiplication using np.matmul()\n",
    "result = np.matmul(matrix_a, matrix_b)\n",
    "print(\"Matrix Multiplication:\")\n",
    "print(result)"
   ]
  },
  {
   "cell_type": "markdown",
   "id": "58579877-6e30-413b-87fc-9887d7870656",
   "metadata": {},
   "source": [
    "**2. Reshaping (`np.reshape()`):**\n",
    "\n",
    "Reshaping an array means changing the shape of the array without changing its data. It's useful for converting arrays between different dimensions or rearranging their layout."
   ]
  },
  {
   "cell_type": "code",
   "execution_count": 46,
   "id": "0f487818-65c3-439d-9c77-71ae8a81883c",
   "metadata": {},
   "outputs": [
    {
     "name": "stdout",
     "output_type": "stream",
     "text": [
      "[1 2 3 4 5 6 7 8 9]\n",
      "Reshaped array:\n",
      "[[1 2 3]\n",
      " [4 5 6]\n",
      " [7 8 9]]\n"
     ]
    }
   ],
   "source": [
    "# Reshaping an array\n",
    "arr = np.arange(1, 10)  # 1D array from 1 to 9\n",
    "print(arr)\n",
    "reshaped_arr = arr.reshape((3, 3))  # Reshape to a 3x3 matrix\n",
    "print(\"Reshaped array:\")\n",
    "print(reshaped_arr)"
   ]
  },
  {
   "cell_type": "markdown",
   "id": "077cad1b-73c7-418c-889c-ea23485b3754",
   "metadata": {},
   "source": [
    "**3. Transpose (`np.transpose()`):**\n",
    "\n",
    "Transposing a matrix means flipping its rows with its columns. In NumPy, you can obtain the transpose of a matrix using the `np.transpose()` function or the `.T` attribute."
   ]
  },
  {
   "cell_type": "code",
   "execution_count": 50,
   "id": "bbd75810-c69b-4afc-a816-43973d807324",
   "metadata": {},
   "outputs": [
    {
     "name": "stdout",
     "output_type": "stream",
     "text": [
      "Transposed matrix:\n",
      "[[1 4]\n",
      " [2 5]\n",
      " [3 6]]\n"
     ]
    }
   ],
   "source": [
    "# Transposing a matrix\n",
    "matrix = np.array([[1, 2, 3],\n",
    "                   [4, 5, 6]])\n",
    "transposed_matrix = np.transpose(matrix)\n",
    "print(\"Transposed matrix:\")\n",
    "print(transposed_matrix)"
   ]
  },
  {
   "cell_type": "markdown",
   "id": "da91e39d-c590-4da8-a064-b26316067465",
   "metadata": {},
   "source": [
    "**4. Aggregate Functions:**\n",
    "\n",
    "Aggregate functions in NumPy are functions that operate on arrays and return a single value, summarizing the data in some way. Common aggregate functions include `np.sum()`, `np.max()`, `np.min()`, `np.mean()`, etc."
   ]
  },
  {
   "cell_type": "code",
   "execution_count": 53,
   "id": "b9cd23e2-ae22-4433-a5ce-2bb7d796eeeb",
   "metadata": {},
   "outputs": [
    {
     "name": "stdout",
     "output_type": "stream",
     "text": [
      "Sum of all elements: 21\n",
      "Maximum element: 6\n",
      "Minimum element: 1\n",
      "Mean of all elements: 3.5\n"
     ]
    }
   ],
   "source": [
    "# Aggregate functions\n",
    "matrix = np.array([[1, 2, 3],\n",
    "                   [4, 5, 6]])\n",
    "\n",
    "print(\"Sum of all elements:\", np.sum(matrix))  # Output: 21\n",
    "print(\"Maximum element:\", np.max(matrix))  # Output: 6\n",
    "print(\"Minimum element:\", np.min(matrix))  # Output: 1\n",
    "print(\"Mean of all elements:\", np.mean(matrix))  # Output: 3.5"
   ]
  },
  {
   "cell_type": "markdown",
   "id": "83587399-cbfc-4492-a6ae-046610081b45",
   "metadata": {},
   "source": [
    "# Universal Functions (ufuncs)"
   ]
  },
  {
   "cell_type": "markdown",
   "id": "6837e571-0e29-4b88-aefa-dc4adac15dca",
   "metadata": {},
   "source": [
    "**1. Basic Arithmetic Operations:**"
   ]
  },
  {
   "cell_type": "code",
   "execution_count": 57,
   "id": "3d510142-25a8-4bc2-ba65-844a74f250fd",
   "metadata": {},
   "outputs": [
    {
     "name": "stdout",
     "output_type": "stream",
     "text": [
      "Addition: [3 4 5 6 7]\n",
      "Multiplication: [ 3  6  9 12 15]\n"
     ]
    }
   ],
   "source": [
    "# Create a sample array\n",
    "arr = np.array([1, 2, 3, 4, 5])\n",
    "\n",
    "# Element-wise addition\n",
    "result_add = np.add(arr, 2)  # Add 2 to each element\n",
    "print(\"Addition:\", result_add)\n",
    "\n",
    "# Element-wise multiplication\n",
    "result_mul = np.multiply(arr, 3)  # Multiply each element by 3\n",
    "print(\"Multiplication:\", result_mul)"
   ]
  },
  {
   "cell_type": "markdown",
   "id": "7a20379d-7187-4d09-802f-16e6e3b57d7e",
   "metadata": {},
   "source": [
    "**2. Trigonometric Functions:**"
   ]
  },
  {
   "cell_type": "code",
   "execution_count": 60,
   "id": "382510e8-711a-490b-b863-fbe002e35c8f",
   "metadata": {},
   "outputs": [
    {
     "name": "stdout",
     "output_type": "stream",
     "text": [
      "Sine: [0.00000000e+00 7.07106781e-01 1.00000000e+00 7.07106781e-01\n",
      " 1.22464680e-16]\n",
      "Cosine: [ 1.00000000e+00  7.07106781e-01  6.12323400e-17 -7.07106781e-01\n",
      " -1.00000000e+00]\n"
     ]
    }
   ],
   "source": [
    "# Trigonometric functions\n",
    "angles = np.array([0, np.pi/4, np.pi/2, 3*np.pi/4, np.pi])\n",
    "\n",
    "# Sine\n",
    "result_sin = np.sin(angles)\n",
    "print(\"Sine:\", result_sin)\n",
    "\n",
    "# Cosine\n",
    "result_cos = np.cos(angles)\n",
    "print(\"Cosine:\", result_cos)"
   ]
  },
  {
   "cell_type": "markdown",
   "id": "ddcbdcd4-19f7-4796-a9c0-83d8dfe091f2",
   "metadata": {},
   "source": [
    "**3. Exponential and Logarithmic Functions:**"
   ]
  },
  {
   "cell_type": "code",
   "execution_count": 63,
   "id": "37f77d01-e32b-402b-9670-b583f84eebbf",
   "metadata": {},
   "outputs": [
    {
     "name": "stdout",
     "output_type": "stream",
     "text": [
      "Exponential: [  2.71828183   7.3890561   20.08553692  54.59815003 148.4131591 ]\n",
      "Natural Logarithm: [0.         0.69314718 1.09861229 1.38629436 1.60943791]\n"
     ]
    }
   ],
   "source": [
    "# Exponential and logarithmic functions\n",
    "arr = np.array([1, 2, 3, 4, 5])\n",
    "\n",
    "# Exponential\n",
    "result_exp = np.exp(arr)\n",
    "print(\"Exponential:\", result_exp)\n",
    "\n",
    "# Natural logarithm\n",
    "result_log = np.log(arr)\n",
    "print(\"Natural Logarithm:\", result_log)"
   ]
  },
  {
   "cell_type": "markdown",
   "id": "7a2b0859-3a81-47ce-9240-95746a8359f2",
   "metadata": {},
   "source": [
    "**4. Statistical Functions:**"
   ]
  },
  {
   "cell_type": "code",
   "execution_count": 66,
   "id": "724074dc-e8e9-40a2-97d4-c26820afc086",
   "metadata": {},
   "outputs": [
    {
     "name": "stdout",
     "output_type": "stream",
     "text": [
      "Mean: 3.0\n",
      "Standard Deviation: 1.4142135623730951\n"
     ]
    }
   ],
   "source": [
    "# Statistical functions\n",
    "arr = np.array([1, 2, 3, 4, 5])\n",
    "\n",
    "# Mean\n",
    "result_mean = np.mean(arr)\n",
    "print(\"Mean:\", result_mean)\n",
    "\n",
    "# Standard deviation\n",
    "result_std = np.std(arr)\n",
    "print(\"Standard Deviation:\", result_std)"
   ]
  },
  {
   "cell_type": "markdown",
   "id": "61a6fe0b-6218-4fba-995c-ae7d2327d804",
   "metadata": {},
   "source": [
    "**5. Comparison Functions:**"
   ]
  },
  {
   "cell_type": "code",
   "execution_count": 69,
   "id": "933c2e69-4575-44ab-9f61-8de5a0fe6386",
   "metadata": {},
   "outputs": [
    {
     "name": "stdout",
     "output_type": "stream",
     "text": [
      "Greater Than: [False False False False  True]\n",
      "Less Than or Equal To: [ True  True  True  True False]\n"
     ]
    }
   ],
   "source": [
    "# Comparison functions\n",
    "arr1 = np.array([1, 2, 3, 4, 5])\n",
    "arr2 = np.array([2, 3, 3, 4, 4])\n",
    "\n",
    "# Greater than\n",
    "result_gt = np.greater(arr1, arr2)\n",
    "print(\"Greater Than:\", result_gt)\n",
    "\n",
    "# Less than or equal to\n",
    "result_lte = np.less_equal(arr1, arr2)\n",
    "print(\"Less Than or Equal To:\", result_lte)"
   ]
  },
  {
   "cell_type": "markdown",
   "id": "9dada8de-2b08-4025-b566-f5f3b5895c91",
   "metadata": {},
   "source": [
    "**6. Broadcasting:**\n",
    "\n",
    "Ufuncs also support broadcasting, which means they can operate on arrays of different shapes. NumPy automatically broadcasts arrays to perform element-wise operations."
   ]
  },
  {
   "cell_type": "code",
   "execution_count": 72,
   "id": "0a94b0b5-621a-42c7-97a3-c20a75c48304",
   "metadata": {},
   "outputs": [
    {
     "name": "stdout",
     "output_type": "stream",
     "text": [
      "Broadcasting with Scalar:\n",
      "[[3 4 5]\n",
      " [6 7 8]]\n"
     ]
    }
   ],
   "source": [
    "arr = np.array([[1, 2, 3], [4, 5, 6]])\n",
    "\n",
    "# Element-wise addition with scalar\n",
    "result_broadcast = arr + 2\n",
    "print(\"Broadcasting with Scalar:\")\n",
    "print(result_broadcast)"
   ]
  },
  {
   "cell_type": "markdown",
   "id": "b68788b2-7261-4fd3-9ff2-fa7ff65dba7c",
   "metadata": {},
   "source": [
    "# Array Manipulations\n"
   ]
  },
  {
   "cell_type": "markdown",
   "id": "892f23c3-a900-462e-9208-b80af78fdc3d",
   "metadata": {},
   "source": [
    "# Playing with Shapes"
   ]
  },
  {
   "cell_type": "markdown",
   "id": "cca3a4a5-2bec-4140-aa4c-af62135ec51f",
   "metadata": {},
   "source": [
    "**1. reshape:** The reshape method returns a new array with the specified shape, without changing the data."
   ]
  },
  {
   "cell_type": "code",
   "execution_count": 77,
   "id": "9d6fdda3-e4d3-4b5b-9231-c8fdae0090d2",
   "metadata": {},
   "outputs": [
    {
     "name": "stdout",
     "output_type": "stream",
     "text": [
      "Original array: [ 0  1  2  3  4  5  6  7  8  9 10 11]\n",
      "Reshaped array:\n",
      " [[ 0  1  2  3]\n",
      " [ 4  5  6  7]\n",
      " [ 8  9 10 11]]\n"
     ]
    }
   ],
   "source": [
    "# Create a one-dimensional array of 12 elements\n",
    "a = np.arange(12)\n",
    "print(\"Original array:\", a)\n",
    "\n",
    "# Reshape it to a 3x4 two-dimensional array\n",
    "b = a.reshape(3,4)\n",
    "print(\"Reshaped array:\\n\", b)"
   ]
  },
  {
   "cell_type": "markdown",
   "id": "1abcea78-55e8-432d-8306-77f24ee41b79",
   "metadata": {},
   "source": [
    "**2. resize:** The resize method changes the shape and size of an array in-place. This method can alter the original array and fill in with repeated copies of a if the new array is larger than the original."
   ]
  },
  {
   "cell_type": "code",
   "execution_count": 80,
   "id": "b29ad034-4e46-4e66-a47b-9763c2bdf5a5",
   "metadata": {},
   "outputs": [
    {
     "name": "stdout",
     "output_type": "stream",
     "text": [
      "Resized array:\n",
      " [[0 1 2 3 4 5]\n",
      " [6 7 8 9 0 0]]\n"
     ]
    }
   ],
   "source": [
    "# Resize the array in-place to 2x6\n",
    "a = np.arange(10)\n",
    "a.resize(2, 6)\n",
    "print(\"Resized array:\\n\", a)"
   ]
  },
  {
   "cell_type": "markdown",
   "id": "dab9a3e1-c303-4df6-ac32-87abdef23ed2",
   "metadata": {},
   "source": [
    "**4. flatten:** Similar to ravel, but flatten returns a copy instead of a view of the original data, thus not affecting the original array."
   ]
  },
  {
   "cell_type": "code",
   "execution_count": 83,
   "id": "71bd741f-d454-42f0-a07f-4f29dfbc5c0d",
   "metadata": {},
   "outputs": [
    {
     "name": "stdout",
     "output_type": "stream",
     "text": [
      "[[ 0  1  2  3]\n",
      " [ 4  5  6  7]\n",
      " [ 8  9 10 11]]\n",
      "Flattened array copy: [ 0  1  2  3  4  5  6  7  8  9 10 11]\n"
     ]
    }
   ],
   "source": [
    "# Create a copy of flattened array\n",
    "print(b)\n",
    "flat_copy = b.flatten()\n",
    "print(\"Flattened array copy:\", flat_copy)"
   ]
  },
  {
   "cell_type": "markdown",
   "id": "9b0d87ea-55b9-4f36-8157-597b9061f03c",
   "metadata": {},
   "source": [
    "**Difference between ravel and flatten:**"
   ]
  },
  {
   "cell_type": "code",
   "execution_count": 86,
   "id": "661a999e-1cd0-4651-8724-0ea57620e924",
   "metadata": {},
   "outputs": [
    {
     "name": "stdout",
     "output_type": "stream",
     "text": [
      "Original array after modifying raveled array: [[100   2]\n",
      " [  3   4]]\n",
      "Original array after modifying flattened array does not change: [[100   2]\n",
      " [  3   4]]\n"
     ]
    }
   ],
   "source": [
    "# Creating a 2D array\n",
    "a = np.array([[1, 2], [3, 4]])\n",
    "\n",
    "# Flattening using ravel\n",
    "b = a.ravel()\n",
    "b[0] = 100  # Modifying the raveled array\n",
    "\n",
    "# Flattening using flatten\n",
    "c = a.flatten()\n",
    "c[1] = 200  # Modifying the flattened array\n",
    "\n",
    "print(\"Original array after modifying raveled array:\", a)\n",
    "print(\"Original array after modifying flattened array does not change:\", a)\n"
   ]
  },
  {
   "cell_type": "markdown",
   "id": "763a6b70-3360-48f5-af8a-d56f62a3fcd5",
   "metadata": {},
   "source": [
    "**5. squeeze:** The squeeze method is used to remove axes of length one from an array."
   ]
  },
  {
   "cell_type": "code",
   "execution_count": 89,
   "id": "306df8cb-c8e5-4562-81f0-e284bd8af890",
   "metadata": {},
   "outputs": [
    {
     "name": "stdout",
     "output_type": "stream",
     "text": [
      "Original array with singleton dimension: (1, 1, 4)\n",
      "[1 2 3 4]\n",
      "Squeezed array: (4,)\n"
     ]
    }
   ],
   "source": [
    "# Create an array with a singleton dimension\n",
    "c = np.array([[[1, 2, 3, 4]]])\n",
    "print(\"Original array with singleton dimension:\", c.shape)\n",
    "\n",
    "# Squeeze to remove singleton dimensions\n",
    "squeezed = c.squeeze()\n",
    "print(squeezed)\n",
    "print(\"Squeezed array:\", squeezed.shape)"
   ]
  },
  {
   "cell_type": "markdown",
   "id": "4a932285-8fef-41bb-91e0-69f09c96ac93",
   "metadata": {},
   "source": [
    "**6. expand_dims:** The opposite of squeeze, expand_dims is used to add an axis at a specified position."
   ]
  },
  {
   "cell_type": "code",
   "execution_count": 92,
   "id": "b9782931-1a87-4f7c-a891-1ed4c5bf4b49",
   "metadata": {},
   "outputs": [
    {
     "name": "stdout",
     "output_type": "stream",
     "text": [
      "[[1]\n",
      " [2]\n",
      " [3]\n",
      " [4]]\n",
      "Expanded array shape: (4, 1)\n"
     ]
    }
   ],
   "source": [
    "# Add an axis at index 1\n",
    "expanded = np.expand_dims(squeezed, axis=1)\n",
    "print(expanded)\n",
    "print(\"Expanded array shape:\", expanded.shape)"
   ]
  },
  {
   "cell_type": "markdown",
   "id": "f7ca7f06-e347-4576-a134-79fa61b6615d",
   "metadata": {},
   "source": [
    "# Splitting and Joining\n",
    "Splitting allows you to divide large arrays into smaller arrays. This can be useful for parallel processing tasks or during situations where subsets of data need to be analyzed separately."
   ]
  },
  {
   "cell_type": "markdown",
   "id": "93b56c0a-e4f6-4bcf-b90f-2704cd12fe0f",
   "metadata": {},
   "source": [
    "**1. np.split:** Splits an array into multiple sub-arrays."
   ]
  },
  {
   "cell_type": "code",
   "execution_count": 8,
   "id": "438b8a75-3ef2-4505-8b2c-5f79d5cc73af",
   "metadata": {},
   "outputs": [
    {
     "name": "stdout",
     "output_type": "stream",
     "text": [
      "Original array: [0 1 2 3 4 5 6 7 8]\n",
      "Split arrays:\n",
      "[0 1 2]\n",
      "[3 4 5]\n",
      "[6 7 8]\n"
     ]
    }
   ],
   "source": [
    "import numpy as np\n",
    "\n",
    "# Create a 1D array with values from 0 to 8\n",
    "x = np.arange(9)\n",
    "print(\"Original array:\", x)\n",
    "\n",
    "# Split the array into 3 equal parts\n",
    "x_split = np.split(x, 3)\n",
    "print(\"Split arrays:\")\n",
    "for part in x_split:\n",
    "    print(part)\n"
   ]
  },
  {
   "cell_type": "markdown",
   "id": "65fc77b3-65bf-4749-b749-8f98acf8fad6",
   "metadata": {},
   "source": [
    "**2. np.array_split:** Similar to np.split, but allows for splitting into unequal subarrays."
   ]
  },
  {
   "cell_type": "code",
   "execution_count": 16,
   "id": "c82f9f5e-629f-41ac-9773-bc789e92194e",
   "metadata": {},
   "outputs": [
    {
     "name": "stdout",
     "output_type": "stream",
     "text": [
      "Array split into unequal parts: [array([0, 1, 2]), array([3, 4]), array([5, 6]), array([7, 8])]\n"
     ]
    }
   ],
   "source": [
    "# Split the array into 4 parts, which will not be equal\n",
    "x_array_split = np.array_split(x, 4)\n",
    "print(\"Array split into unequal parts:\", x_array_split)"
   ]
  },
  {
   "cell_type": "markdown",
   "id": "d8484c32-4ecf-4877-88de-6e50f63245e1",
   "metadata": {},
   "source": [
    "**3. np.hsplit and np.vsplit:** These are specific cases of split for horizontal and vertical splitting respectively, useful for 2D arrays (matrices)."
   ]
  },
  {
   "cell_type": "code",
   "execution_count": 14,
   "id": "01bb71d1-c3bc-4529-88a4-79f53e4764bf",
   "metadata": {},
   "outputs": [
    {
     "name": "stdout",
     "output_type": "stream",
     "text": [
      "Original 2D array:\n",
      " [[1 2 3]\n",
      " [4 5 6]]\n",
      "Horizontally split: [array([[1],\n",
      "       [4]]), array([[2],\n",
      "       [5]]), array([[3],\n",
      "       [6]])]\n",
      "Vertically split: [array([[1, 2, 3]]), array([[4, 5, 6]])]\n"
     ]
    }
   ],
   "source": [
    "y = np.array([[1, 2, 3], [4, 5, 6]])\n",
    "print(\"Original 2D array:\\n\", y)\n",
    "\n",
    "# Horizontal split\n",
    "y_hsplit = np.hsplit(y, 3)\n",
    "print(\"Horizontally split:\", y_hsplit)\n",
    "\n",
    "# Vertical split\n",
    "y_vsplit = np.vsplit(y, 2)\n",
    "print(\"Vertically split:\", y_vsplit)"
   ]
  },
  {
   "cell_type": "markdown",
   "id": "bb9ce45f-1a55-413d-9c41-75f3e1e5851f",
   "metadata": {},
   "source": [
    "**4. np.concatenate:** Concatenates a sequence of arrays along an existing axis."
   ]
  },
  {
   "cell_type": "code",
   "execution_count": 19,
   "id": "cfdcd544-67b0-4f3a-94fb-adcfa3de5ab3",
   "metadata": {},
   "outputs": [
    {
     "name": "stdout",
     "output_type": "stream",
     "text": [
      "Concatenated array: [1 2 3 4 5 6]\n"
     ]
    }
   ],
   "source": [
    "a = np.array([1, 2, 3])\n",
    "b = np.array([4, 5, 6])\n",
    "\n",
    "# Concatenate along the first axis\n",
    "concatenated = np.concatenate((a, b))\n",
    "print(\"Concatenated array:\", concatenated)"
   ]
  },
  {
   "cell_type": "markdown",
   "id": "b7381856-d469-43f1-95a1-57624ba43d7a",
   "metadata": {},
   "source": [
    "**5. np.hstack and np.vstack:** These are specific cases of concatenate for horizontal and vertical stacking respectively."
   ]
  },
  {
   "cell_type": "code",
   "execution_count": 22,
   "id": "c38cf459-eaaa-4eea-b588-8399b8c66177",
   "metadata": {},
   "outputs": [
    {
     "name": "stdout",
     "output_type": "stream",
     "text": [
      "Horizontally stacked: [1 2 3 4 5 6]\n",
      "Vertically stacked:\n",
      " [[1 2 3]\n",
      " [4 5 6]]\n"
     ]
    }
   ],
   "source": [
    "# Horizontal stack\n",
    "h_stacked = np.hstack((a, b))\n",
    "print(\"Horizontally stacked:\", h_stacked)\n",
    "\n",
    "# Vertical stack\n",
    "v_stacked = np.vstack((a, b))\n",
    "print(\"Vertically stacked:\\n\", v_stacked)\n"
   ]
  },
  {
   "cell_type": "markdown",
   "id": "dfcd89b4-66c6-4354-a336-5869f8c466e3",
   "metadata": {},
   "source": [
    "# Adding and Removing Elements\n",
    "These operations allow you to modify array sizes dynamically."
   ]
  },
  {
   "cell_type": "markdown",
   "id": "5df7a407-a341-4486-bb0d-c3f6963fe7c4",
   "metadata": {},
   "source": [
    "**1. np.append:** Adds elements to the end of an array."
   ]
  },
  {
   "cell_type": "code",
   "execution_count": 28,
   "id": "7dde9c55-4521-44e0-a74c-c1db873a77e3",
   "metadata": {},
   "outputs": [
    {
     "name": "stdout",
     "output_type": "stream",
     "text": [
      "Appended array: [1 2 3 7 8]\n"
     ]
    }
   ],
   "source": [
    "# Append elements to the array\n",
    "a = np.array([1, 2, 3])\n",
    "appended = np.append(a, [7, 8])\n",
    "print(\"Appended array:\", appended)"
   ]
  },
  {
   "cell_type": "markdown",
   "id": "d0ff594c-bf1f-428f-8bdc-52218f269e82",
   "metadata": {},
   "source": [
    "**2. np.insert:** Inserts elements at a specific position in the array."
   ]
  },
  {
   "cell_type": "code",
   "execution_count": 31,
   "id": "e5b6be99-09b2-413a-a0e6-5749266ff6f1",
   "metadata": {},
   "outputs": [
    {
     "name": "stdout",
     "output_type": "stream",
     "text": [
      "Array with inserted elements: [ 1  9 10  2  3]\n"
     ]
    }
   ],
   "source": [
    "    # Insert elements into the array\n",
    "inserted = np.insert(a, 1, [9, 10])\n",
    "print(\"Array with inserted elements:\", inserted)"
   ]
  },
  {
   "cell_type": "markdown",
   "id": "30e30d02-0cad-4661-92ae-90f5406ef7bb",
   "metadata": {},
   "source": [
    "**3. np.delete:** Removes elements at a specific position from the array."
   ]
  },
  {
   "cell_type": "code",
   "execution_count": 34,
   "id": "a3041a6d-1642-436a-9820-148434317b5d",
   "metadata": {},
   "outputs": [
    {
     "name": "stdout",
     "output_type": "stream",
     "text": [
      "Array after deleting element at index 2: [1 2 4 5]\n"
     ]
    }
   ],
   "source": [
    "# Create a one-dimensional array\n",
    "a = np.array([1, 2, 3, 4, 5])\n",
    "\n",
    "# Delete the element at index 2\n",
    "result = np.delete(a, 2)\n",
    "print(\"Array after deleting element at index 2:\", result)"
   ]
  },
  {
   "cell_type": "code",
   "execution_count": 36,
   "id": "dbf7bbb7-a2d6-47a7-8088-8debe9e60613",
   "metadata": {},
   "outputs": [
    {
     "name": "stdout",
     "output_type": "stream",
     "text": [
      "Array after deleting elements at indices 0 and 3: [2 3 5]\n"
     ]
    }
   ],
   "source": [
    "# Delete multiple elements\n",
    "result = np.delete(a, [0, 3])\n",
    "print(\"Array after deleting elements at indices 0 and 3:\", result)"
   ]
  },
  {
   "cell_type": "code",
   "execution_count": 38,
   "id": "a6d473b1-1990-4086-ad69-5b9808ff6142",
   "metadata": {},
   "outputs": [
    {
     "name": "stdout",
     "output_type": "stream",
     "text": [
      "Array after deleting second row:\n",
      " [[1 2 3]\n",
      " [7 8 9]]\n",
      "Array after deleting third column:\n",
      " [[1 2]\n",
      " [4 5]\n",
      " [7 8]]\n"
     ]
    }
   ],
   "source": [
    "# Create a two-dimensional array\n",
    "b = np.array([[1, 2, 3], [4, 5, 6], [7, 8, 9]])\n",
    "\n",
    "# Delete the second row\n",
    "result = np.delete(b, 1, axis=0)\n",
    "print(\"Array after deleting second row:\\n\", result)\n",
    "\n",
    "# Delete the third column\n",
    "result = np.delete(b, 2, axis=1)\n",
    "print(\"Array after deleting third column:\\n\", result)"
   ]
  },
  {
   "cell_type": "code",
   "execution_count": null,
   "id": "82e176f7-151e-4f38-809a-f8f493efaad7",
   "metadata": {},
   "outputs": [],
   "source": []
  }
 ],
 "metadata": {
  "kernelspec": {
   "display_name": "Python [conda env:base] *",
   "language": "python",
   "name": "conda-base-py"
  },
  "language_info": {
   "codemirror_mode": {
    "name": "ipython",
    "version": 3
   },
   "file_extension": ".py",
   "mimetype": "text/x-python",
   "name": "python",
   "nbconvert_exporter": "python",
   "pygments_lexer": "ipython3",
   "version": "3.12.7"
  }
 },
 "nbformat": 4,
 "nbformat_minor": 5
}
